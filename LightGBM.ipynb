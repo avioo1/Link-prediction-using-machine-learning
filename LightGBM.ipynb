{
 "cells": [
  {
   "cell_type": "code",
   "execution_count": 3,
   "metadata": {},
   "outputs": [],
   "source": [
    "import numpy as np\n",
    "import matplotlib.pyplot as plt\n",
    "import pandas as pd\n",
    "import lightgbm as lgb"
   ]
  },
  {
   "cell_type": "code",
   "execution_count": null,
   "metadata": {},
   "outputs": [],
   "source": [
    "dataset = pd.read_csv('train.csv')"
   ]
  },
  {
   "cell_type": "code",
   "execution_count": 117,
   "metadata": {},
   "outputs": [
    {
     "name": "stdout",
     "output_type": "stream",
     "text": [
      "99968\n",
      "99968\n"
     ]
    }
   ],
   "source": [
    "FEATURE_SIZE=3\n",
    "X = dataset.iloc[:,0:FEATURE_SIZE].values\n",
    "print(len(X))\n",
    "y = dataset.iloc[:, 7].values\n",
    "\n",
    "print(len(y))"
   ]
  },
  {
   "cell_type": "code",
   "execution_count": 118,
   "metadata": {},
   "outputs": [],
   "source": [
    "from sklearn.model_selection import train_test_split\n",
    "x_train, x_val, y_train, y_val = train_test_split(X, y, test_size = 0.1)\n",
    "x_val, x_test, y_val, y_test = train_test_split(x_val, y_val, test_size = 0.1)\n"
   ]
  },
  {
   "cell_type": "code",
   "execution_count": 119,
   "metadata": {},
   "outputs": [],
   "source": [
    "from sklearn.preprocessing import StandardScaler\n",
    "sc = StandardScaler()\n",
    "x_train = sc.fit_transform(x_train)\n",
    "x_test = sc.transform(x_test)\n",
    "x_val=sc.transform(x_val)"
   ]
  },
  {
   "cell_type": "code",
   "execution_count": 120,
   "metadata": {},
   "outputs": [
    {
     "name": "stdout",
     "output_type": "stream",
     "text": [
      "[1]\tvalid_0's auc: 0.861563\n",
      "Training until validation scores don't improve for 5 rounds\n",
      "[2]\tvalid_0's auc: 0.861563\n",
      "[3]\tvalid_0's auc: 0.861595\n",
      "[4]\tvalid_0's auc: 0.861767\n",
      "[5]\tvalid_0's auc: 0.861767\n",
      "[6]\tvalid_0's auc: 0.861767\n",
      "[7]\tvalid_0's auc: 0.861776\n",
      "[8]\tvalid_0's auc: 0.861779\n",
      "[9]\tvalid_0's auc: 0.861779\n",
      "[10]\tvalid_0's auc: 0.861794\n",
      "[11]\tvalid_0's auc: 0.861791\n",
      "[12]\tvalid_0's auc: 0.861791\n",
      "[13]\tvalid_0's auc: 0.861794\n",
      "[14]\tvalid_0's auc: 0.861808\n",
      "[15]\tvalid_0's auc: 0.861808\n",
      "[16]\tvalid_0's auc: 0.861817\n",
      "[17]\tvalid_0's auc: 0.8618\n",
      "[18]\tvalid_0's auc: 0.8618\n",
      "[19]\tvalid_0's auc: 0.8618\n",
      "[20]\tvalid_0's auc: 0.861794\n",
      "Did not meet early stopping. Best iteration is:\n",
      "[16]\tvalid_0's auc: 0.861817\n"
     ]
    },
    {
     "name": "stderr",
     "output_type": "stream",
     "text": [
      "H:\\Anaconda\\lib\\site-packages\\lightgbm\\engine.py:153: UserWarning: Found `early_stopping_round` in params. Will use it instead of argument\n",
      "  warnings.warn(\"Found `{}` in params. Will use it instead of argument\".format(alias))\n"
     ]
    }
   ],
   "source": [
    "train_data = lgbm.Dataset(x_train, y_train)\n",
    "test_data = lgbm.Dataset(x_test, y_test)\n",
    "\n",
    "parameters = {\n",
    "    'objective': 'binary',\n",
    "    'metric': 'auc',\n",
    "    'is_unbalance': 'false',\n",
    "    'feature_fraction': 0.5,\n",
    "    'bagging_fraction': 0.5,\n",
    "    'bagging_freq': 5,\n",
    "    'num_threads' : 2,\n",
    "    'seed' : 76,\n",
    "    \"max_bin\": 100,\n",
    "    \"num_iterations\": 100,\n",
    "    \"max_depth\": 5\n",
    "}\n",
    "\n",
    "\n",
    "lr = lgb.train(params, train_data, 20,test_data)"
   ]
  },
  {
   "cell_type": "code",
   "execution_count": 121,
   "metadata": {},
   "outputs": [
    {
     "name": "stdout",
     "output_type": "stream",
     "text": [
      "0.833\n",
      "0.833\n"
     ]
    }
   ],
   "source": [
    "y_pred=lr.predict(test_data)\n",
    "for i in range(len(y_pred)):\n",
    "    if y_pred[i]>=.5:       \n",
    "        y_pred[i]=1\n",
    "    else:\n",
    "        y_pred[i]=0\n",
    "    \n",
    "from sklearn.metrics import accuracy_score\n",
    "accuracy=accuracy_score(y_pred,y_test)\n",
    "print(accuracy)\n",
    "\n",
    "from sklearn.metrics import roc_auc_score\n",
    "print(roc_auc_score(y_test, y_pred))"
   ]
  },
  {
   "cell_type": "code",
   "execution_count": 123,
   "metadata": {},
   "outputs": [
    {
     "name": "stdout",
     "output_type": "stream",
     "text": [
      "1999\n",
      "0.6356612143678946\n"
     ]
    }
   ],
   "source": [
    "testdata = pd.read_csv('test.csv')\n",
    "x_testing = testdata.iloc[:,0:FEATURE_SIZE].values\n",
    "x_testing = sc.transform(x_testing)\n",
    "y_pred=lr.predict(x_testing)\n",
    "predictions_link = np.array(y_pred)\n",
    "print(len(predictions_link))\n",
    "idx = np.argpartition(predictions_link, 1000)\n",
    "print(max(predictions_link[idx[:1000]]))"
   ]
  },
  {
   "cell_type": "code",
   "execution_count": 124,
   "metadata": {},
   "outputs": [],
   "source": [
    "import csv\n",
    "count1 = 0\n",
    "count0 = 0\n",
    "\n",
    "with open(\"Light:(0-1.csv\",\"w\",newline=\"\") as csvfile:\n",
    "    writer=csv.writer(csvfile)\n",
    "    writer.writerow([\"Id\",\"Predicted\"])\n",
    "    test_id=1\n",
    "    for prediction in y_pred:\n",
    "        if prediction > 0.8:\n",
    "            writer.writerow([test_id,1])\n",
    "            count1 += 1\n",
    "        elif prediction < 0.2:\n",
    "            writer.writerow([test_id,0])\n",
    "            count0 += 1\n",
    "        else:\n",
    "            writer.writerow([test_id,prediction])\n",
    "        test_id+=1"
   ]
  },
  {
   "cell_type": "code",
   "execution_count": 125,
   "metadata": {},
   "outputs": [
    {
     "name": "stdout",
     "output_type": "stream",
     "text": [
      "0\n",
      "0\n"
     ]
    }
   ],
   "source": [
    "print(count1)\n",
    "print(count0)"
   ]
  },
  {
   "cell_type": "code",
   "execution_count": null,
   "metadata": {},
   "outputs": [],
   "source": []
  }
 ],
 "metadata": {
  "kernelspec": {
   "display_name": "Python 3",
   "language": "python",
   "name": "python3"
  },
  "language_info": {
   "codemirror_mode": {
    "name": "ipython",
    "version": 3
   },
   "file_extension": ".py",
   "mimetype": "text/x-python",
   "name": "python",
   "nbconvert_exporter": "python",
   "pygments_lexer": "ipython3",
   "version": "3.8.5"
  }
 },
 "nbformat": 4,
 "nbformat_minor": 4
}
