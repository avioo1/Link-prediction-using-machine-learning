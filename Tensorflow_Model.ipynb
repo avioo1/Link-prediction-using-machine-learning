{
 "cells": [
  {
   "cell_type": "code",
   "execution_count": 6,
   "metadata": {
    "execution": {
     "iopub.execute_input": "2020-09-05T03:28:11.703842Z",
     "iopub.status.busy": "2020-09-05T03:28:11.703842Z",
     "iopub.status.idle": "2020-09-05T03:28:11.706798Z",
     "shell.execute_reply": "2020-09-05T03:28:11.706324Z",
     "shell.execute_reply.started": "2020-09-05T03:28:11.703842Z"
    }
   },
   "outputs": [],
   "source": [
    "import numpy as np\n",
    "import pandas as pd"
   ]
  },
  {
   "cell_type": "code",
   "execution_count": 7,
   "metadata": {
    "execution": {
     "iopub.execute_input": "2020-09-05T03:28:12.820942Z",
     "iopub.status.busy": "2020-09-05T03:28:12.820447Z",
     "iopub.status.idle": "2020-09-05T03:28:20.803076Z",
     "shell.execute_reply": "2020-09-05T03:28:20.802708Z",
     "shell.execute_reply.started": "2020-09-05T03:28:12.820942Z"
    }
   },
   "outputs": [],
   "source": [
    "X_train = pd.read_csv('X_train.csv',header=None)\n",
    "y_train = pd.read_csv('y_train.csv',header=None)"
   ]
  },
  {
   "cell_type": "code",
   "execution_count": 8,
   "metadata": {
    "execution": {
     "iopub.execute_input": "2020-09-05T03:28:20.804096Z",
     "iopub.status.busy": "2020-09-05T03:28:20.803606Z",
     "iopub.status.idle": "2020-09-05T03:28:22.920035Z",
     "shell.execute_reply": "2020-09-05T03:28:22.919537Z",
     "shell.execute_reply.started": "2020-09-05T03:28:20.804096Z"
    }
   },
   "outputs": [],
   "source": [
    "X_test = pd.read_csv('X_test.csv',header=None)\n",
    "y_test = pd.read_csv('y_test.csv',header=None)"
   ]
  },
  {
   "cell_type": "code",
   "execution_count": 9,
   "metadata": {
    "execution": {
     "iopub.execute_input": "2020-09-05T03:28:22.921025Z",
     "iopub.status.busy": "2020-09-05T03:28:22.921025Z",
     "iopub.status.idle": "2020-09-05T03:28:25.683269Z",
     "shell.execute_reply": "2020-09-05T03:28:25.682773Z",
     "shell.execute_reply.started": "2020-09-05T03:28:22.921025Z"
    }
   },
   "outputs": [],
   "source": [
    "embeddings = np.load('ggvec_embeddings.npy')"
   ]
  },
  {
   "cell_type": "code",
   "execution_count": 10,
   "metadata": {
    "execution": {
     "iopub.execute_input": "2020-09-05T03:28:25.684261Z",
     "iopub.status.busy": "2020-09-05T03:28:25.684261Z",
     "iopub.status.idle": "2020-09-05T03:29:13.253176Z",
     "shell.execute_reply": "2020-09-05T03:29:13.252680Z",
     "shell.execute_reply.started": "2020-09-05T03:28:25.684261Z"
    }
   },
   "outputs": [],
   "source": [
    "X_train_embeddings = [(embeddings[i]+embeddings[j]) for i,j in zip(X_train[0], X_train[1])]"
   ]
  },
  {
   "cell_type": "code",
   "execution_count": 11,
   "metadata": {
    "execution": {
     "iopub.execute_input": "2020-09-05T03:29:13.253673Z",
     "iopub.status.busy": "2020-09-05T03:29:13.253673Z",
     "iopub.status.idle": "2020-09-05T03:29:38.089948Z",
     "shell.execute_reply": "2020-09-05T03:29:38.089452Z",
     "shell.execute_reply.started": "2020-09-05T03:29:13.253673Z"
    }
   },
   "outputs": [],
   "source": [
    "X_train_embeddings = np.array(X_train_embeddings)"
   ]
  },
  {
   "cell_type": "markdown",
   "metadata": {},
   "source": [
    "X_test_embeddings = np.load('X_test_embeddings.npy')"
   ]
  },
  {
   "cell_type": "code",
   "execution_count": 4,
   "metadata": {
    "execution": {
     "iopub.execute_input": "2020-09-04T10:46:16.231516Z",
     "iopub.status.busy": "2020-09-04T10:46:16.231516Z",
     "iopub.status.idle": "2020-09-04T10:46:19.892760Z",
     "shell.execute_reply": "2020-09-04T10:46:19.892760Z",
     "shell.execute_reply.started": "2020-09-04T10:46:16.231516Z"
    }
   },
   "outputs": [],
   "source": [
    "import tensorflow as tf\n",
    "from tensorflow import keras\n",
    "from tensorflow.keras import layers"
   ]
  },
  {
   "cell_type": "code",
   "execution_count": 26,
   "metadata": {
    "execution": {
     "iopub.execute_input": "2020-09-03T18:19:31.820839Z",
     "iopub.status.busy": "2020-09-03T18:19:31.820839Z",
     "iopub.status.idle": "2020-09-03T18:19:31.885872Z",
     "shell.execute_reply": "2020-09-03T18:19:31.885872Z",
     "shell.execute_reply.started": "2020-09-03T18:19:31.820839Z"
    }
   },
   "outputs": [],
   "source": [
    "model = keras.Sequential(\n",
    "    [\n",
    "        keras.Input(shape=(32,)),\n",
    "        layers.Dense(32, activation=\"relu\"),\n",
    "        layers.Dense(16, activation=\"relu\"),\n",
    "        layers.Dense(1, activation=\"sigmoid\")\n",
    "    ]\n",
    ")\n",
    "model.compile(loss='binary_crossentropy', optimizer='adam', metrics=['accuracy'])"
   ]
  },
  {
   "cell_type": "code",
   "execution_count": 27,
   "metadata": {
    "execution": {
     "iopub.execute_input": "2020-09-03T18:19:32.422839Z",
     "iopub.status.busy": "2020-09-03T18:19:32.422839Z",
     "iopub.status.idle": "2020-09-03T21:35:37.484676Z",
     "shell.execute_reply": "2020-09-03T21:35:37.484676Z",
     "shell.execute_reply.started": "2020-09-03T18:19:32.422839Z"
    }
   },
   "outputs": [
    {
     "name": "stdout",
     "output_type": "stream",
     "text": [
      "Train on 34101116 samples, validate on 3789013 samples\n",
      "Epoch 1/20\n",
      "34101116/34101116 [==============================] - 594s 17us/sample - loss: 0.6219 - accuracy: 0.6110 - val_loss: 0.7179 - val_accuracy: 0.6200\n",
      "Epoch 2/20\n",
      "34101116/34101116 [==============================] - 588s 17us/sample - loss: 0.6153 - accuracy: 0.6147 - val_loss: 0.7068 - val_accuracy: 0.6496\n",
      "Epoch 3/20\n",
      "34101116/34101116 [==============================] - 587s 17us/sample - loss: 0.6134 - accuracy: 0.6149 - val_loss: 0.7303 - val_accuracy: 0.6030\n",
      "Epoch 4/20\n",
      "34101116/34101116 [==============================] - 588s 17us/sample - loss: 0.6126 - accuracy: 0.6151 - val_loss: 0.7066 - val_accuracy: 0.6775\n",
      "Epoch 5/20\n",
      "34101116/34101116 [==============================] - 586s 17us/sample - loss: 0.6122 - accuracy: 0.6156 - val_loss: 0.7072 - val_accuracy: 0.6567\n",
      "Epoch 6/20\n",
      "34101116/34101116 [==============================] - 587s 17us/sample - loss: 0.6118 - accuracy: 0.6159 - val_loss: 0.7371 - val_accuracy: 0.5822\n",
      "Epoch 7/20\n",
      "34101116/34101116 [==============================] - 589s 17us/sample - loss: 0.6115 - accuracy: 0.6162 - val_loss: 0.6854 - val_accuracy: 0.7082\n",
      "Epoch 8/20\n",
      "34101116/34101116 [==============================] - 588s 17us/sample - loss: 0.6112 - accuracy: 0.6166 - val_loss: 0.7182 - val_accuracy: 0.6433\n",
      "Epoch 9/20\n",
      "34101116/34101116 [==============================] - 589s 17us/sample - loss: 0.6110 - accuracy: 0.6167 - val_loss: 0.6919 - val_accuracy: 0.6926\n",
      "Epoch 10/20\n",
      "34101116/34101116 [==============================] - 587s 17us/sample - loss: 0.6108 - accuracy: 0.6166 - val_loss: 0.7149 - val_accuracy: 0.6487\n",
      "Epoch 11/20\n",
      "34101116/34101116 [==============================] - 588s 17us/sample - loss: 0.6106 - accuracy: 0.6164 - val_loss: 0.7076 - val_accuracy: 0.6734\n",
      "Epoch 12/20\n",
      "34101116/34101116 [==============================] - 588s 17us/sample - loss: 0.6105 - accuracy: 0.6164 - val_loss: 0.7156 - val_accuracy: 0.6562\n",
      "Epoch 13/20\n",
      "34101116/34101116 [==============================] - 588s 17us/sample - loss: 0.6104 - accuracy: 0.6163 - val_loss: 0.7045 - val_accuracy: 0.6710\n",
      "Epoch 14/20\n",
      "34101116/34101116 [==============================] - 588s 17us/sample - loss: 0.6103 - accuracy: 0.6162 - val_loss: 0.6933 - val_accuracy: 0.6921\n",
      "Epoch 15/20\n",
      "34101116/34101116 [==============================] - 588s 17us/sample - loss: 0.6103 - accuracy: 0.6162 - val_loss: 0.6935 - val_accuracy: 0.7037\n",
      "Epoch 16/20\n",
      "34101116/34101116 [==============================] - 588s 17us/sample - loss: 0.6102 - accuracy: 0.6163 - val_loss: 0.7128 - val_accuracy: 0.6549\n",
      "Epoch 17/20\n",
      "34101116/34101116 [==============================] - 588s 17us/sample - loss: 0.6101 - accuracy: 0.6162 - val_loss: 0.6783 - val_accuracy: 0.7304\n",
      "Epoch 18/20\n",
      "34101116/34101116 [==============================] - 590s 17us/sample - loss: 0.6101 - accuracy: 0.6163 - val_loss: 0.6996 - val_accuracy: 0.6846\n",
      "Epoch 19/20\n",
      "34101116/34101116 [==============================] - 588s 17us/sample - loss: 0.6100 - accuracy: 0.6163 - val_loss: 0.7042 - val_accuracy: 0.6702\n",
      "Epoch 20/20\n",
      "34101116/34101116 [==============================] - 589s 17us/sample - loss: 0.6100 - accuracy: 0.6163 - val_loss: 0.6889 - val_accuracy: 0.7087\n"
     ]
    },
    {
     "data": {
      "text/plain": [
       "<tensorflow.python.keras.callbacks.History at 0x23186b52088>"
      ]
     },
     "execution_count": 27,
     "metadata": {},
     "output_type": "execute_result"
    }
   ],
   "source": [
    "model.fit(X_train_embeddings, y_train,shuffle=True,validation_split = 0.1, epochs=20, batch_size = 128)"
   ]
  },
  {
   "cell_type": "code",
   "execution_count": 29,
   "metadata": {
    "execution": {
     "iopub.execute_input": "2020-09-04T03:11:16.026565Z",
     "iopub.status.busy": "2020-09-04T03:11:16.026565Z",
     "iopub.status.idle": "2020-09-04T03:11:16.686562Z",
     "shell.execute_reply": "2020-09-04T03:11:16.686562Z",
     "shell.execute_reply.started": "2020-09-04T03:11:16.026565Z"
    }
   },
   "outputs": [
    {
     "name": "stdout",
     "output_type": "stream",
     "text": [
      "INFO:tensorflow:Assets written to: model_1\\assets\n"
     ]
    }
   ],
   "source": [
    "model.save('model_1')"
   ]
  },
  {
   "cell_type": "code",
   "execution_count": 38,
   "metadata": {
    "execution": {
     "iopub.execute_input": "2020-09-04T11:02:48.204595Z",
     "iopub.status.busy": "2020-09-04T11:02:48.204595Z",
     "iopub.status.idle": "2020-09-04T11:02:51.082895Z",
     "shell.execute_reply": "2020-09-04T11:02:51.082895Z",
     "shell.execute_reply.started": "2020-09-04T11:02:48.204595Z"
    }
   },
   "outputs": [],
   "source": [
    "model = keras.models.load_model('model_1')"
   ]
  },
  {
   "cell_type": "code",
   "execution_count": null,
   "metadata": {},
   "outputs": [],
   "source": [
    "X_test_embeddings = [(embeddings[i]+embeddings[j]) for i,j in zip(X_test[0], X_test[1])]\n",
    "X_test_embeddings = np.array(X_test_embeddings)"
   ]
  },
  {
   "cell_type": "code",
   "execution_count": 37,
   "metadata": {
    "execution": {
     "iopub.execute_input": "2020-09-04T03:20:39.790017Z",
     "iopub.status.busy": "2020-09-04T03:20:39.790017Z",
     "iopub.status.idle": "2020-09-04T03:27:07.082555Z",
     "shell.execute_reply": "2020-09-04T03:27:07.082555Z",
     "shell.execute_reply.started": "2020-09-04T03:20:39.790017Z"
    }
   },
   "outputs": [
    {
     "name": "stdout",
     "output_type": "stream",
     "text": [
      "9472534/9472534 [==============================] - 387s 41us/sample - loss: 0.6179 - accuracy: 0.6254\n",
      "Accuracy: 62.54\n"
     ]
    }
   ],
   "source": [
    "_, accuracy = model.evaluate(X_test_embeddings, y_test)\n",
    "print('Accuracy: %.2f' % (accuracy*100))"
   ]
  },
  {
   "cell_type": "code",
   "execution_count": 28,
   "metadata": {
    "execution": {
     "iopub.execute_input": "2020-09-05T03:51:01.642321Z",
     "iopub.status.busy": "2020-09-05T03:51:01.642321Z",
     "iopub.status.idle": "2020-09-05T03:51:01.654726Z",
     "shell.execute_reply": "2020-09-05T03:51:01.654253Z",
     "shell.execute_reply.started": "2020-09-05T03:51:01.642321Z"
    }
   },
   "outputs": [],
   "source": [
    "test_public = pd.read_csv('../data/comp90051-2020-sem2-proj1/test-public.txt', delimiter = '\\t')"
   ]
  },
  {
   "cell_type": "code",
   "execution_count": 29,
   "metadata": {
    "execution": {
     "iopub.execute_input": "2020-09-05T03:51:05.882019Z",
     "iopub.status.busy": "2020-09-05T03:51:05.882019Z",
     "iopub.status.idle": "2020-09-05T03:51:05.889966Z",
     "shell.execute_reply": "2020-09-05T03:51:05.889488Z",
     "shell.execute_reply.started": "2020-09-05T03:51:05.882019Z"
    }
   },
   "outputs": [],
   "source": [
    "test_public_embeddings = [(embeddings[i]+embeddings[j]) for i,j in zip(test_public['Source'], test_public['Sink'])]"
   ]
  },
  {
   "cell_type": "code",
   "execution_count": 30,
   "metadata": {
    "execution": {
     "iopub.execute_input": "2020-09-05T03:51:07.085970Z",
     "iopub.status.busy": "2020-09-05T03:51:07.085474Z",
     "iopub.status.idle": "2020-09-05T03:51:07.090930Z",
     "shell.execute_reply": "2020-09-05T03:51:07.090434Z",
     "shell.execute_reply.started": "2020-09-05T03:51:07.085474Z"
    }
   },
   "outputs": [],
   "source": [
    "test_public_embeddings = np.array(test_public_embeddings)"
   ]
  },
  {
   "cell_type": "code",
   "execution_count": 6,
   "metadata": {
    "execution": {
     "iopub.execute_input": "2020-09-04T10:46:38.228524Z",
     "iopub.status.busy": "2020-09-04T10:46:38.228524Z",
     "iopub.status.idle": "2020-09-04T10:46:38.238498Z",
     "shell.execute_reply": "2020-09-04T10:46:38.238498Z",
     "shell.execute_reply.started": "2020-09-04T10:46:38.228524Z"
    }
   },
   "outputs": [
    {
     "data": {
      "text/plain": [
       "pandas.core.frame.DataFrame"
      ]
     },
     "execution_count": 6,
     "metadata": {},
     "output_type": "execute_result"
    }
   ],
   "source": [
    "type(test_public)"
   ]
  },
  {
   "cell_type": "code",
   "execution_count": 42,
   "metadata": {
    "execution": {
     "iopub.execute_input": "2020-09-04T11:04:28.686528Z",
     "iopub.status.busy": "2020-09-04T11:04:28.686528Z",
     "iopub.status.idle": "2020-09-04T11:04:28.772302Z",
     "shell.execute_reply": "2020-09-04T11:04:28.772302Z",
     "shell.execute_reply.started": "2020-09-04T11:04:28.686528Z"
    }
   },
   "outputs": [],
   "source": [
    "predictions = model.predict(test_public_embeddings)"
   ]
  },
  {
   "cell_type": "code",
   "execution_count": 43,
   "metadata": {
    "execution": {
     "iopub.execute_input": "2020-09-04T11:04:30.161348Z",
     "iopub.status.busy": "2020-09-04T11:04:30.160351Z",
     "iopub.status.idle": "2020-09-04T11:04:30.164367Z",
     "shell.execute_reply": "2020-09-04T11:04:30.164367Z",
     "shell.execute_reply.started": "2020-09-04T11:04:30.161348Z"
    }
   },
   "outputs": [
    {
     "data": {
      "text/plain": [
       "array([[0.4759963 ],\n",
       "       [0.73856753],\n",
       "       [0.5170013 ],\n",
       "       ...,\n",
       "       [0.4224368 ],\n",
       "       [0.64865834],\n",
       "       [0.39944652]], dtype=float32)"
      ]
     },
     "execution_count": 43,
     "metadata": {},
     "output_type": "execute_result"
    }
   ],
   "source": [
    "predictions"
   ]
  },
  {
   "cell_type": "code",
   "execution_count": 44,
   "metadata": {
    "execution": {
     "iopub.execute_input": "2020-09-04T11:04:33.046379Z",
     "iopub.status.busy": "2020-09-04T11:04:33.046379Z",
     "iopub.status.idle": "2020-09-04T11:04:33.050397Z",
     "shell.execute_reply": "2020-09-04T11:04:33.050397Z",
     "shell.execute_reply.started": "2020-09-04T11:04:33.046379Z"
    }
   },
   "outputs": [
    {
     "data": {
      "text/plain": [
       "array([972.95557], dtype=float32)"
      ]
     },
     "execution_count": 44,
     "metadata": {},
     "output_type": "execute_result"
    }
   ],
   "source": [
    "sum(predictions)"
   ]
  },
  {
   "cell_type": "code",
   "execution_count": 49,
   "metadata": {
    "execution": {
     "iopub.execute_input": "2020-09-04T11:17:00.469419Z",
     "iopub.status.busy": "2020-09-04T11:17:00.469419Z",
     "iopub.status.idle": "2020-09-04T11:17:00.483308Z",
     "shell.execute_reply": "2020-09-04T11:17:00.482818Z",
     "shell.execute_reply.started": "2020-09-04T11:17:00.469419Z"
    }
   },
   "outputs": [],
   "source": [
    "pd.DataFrame(predictions).to_csv('predictions/prediction_1.csv')"
   ]
  },
  {
   "cell_type": "code",
   "execution_count": null,
   "metadata": {},
   "outputs": [],
   "source": []
  },
  {
   "cell_type": "code",
   "execution_count": null,
   "metadata": {},
   "outputs": [],
   "source": []
  },
  {
   "cell_type": "code",
   "execution_count": 2,
   "metadata": {
    "execution": {
     "iopub.execute_input": "2020-09-05T03:27:49.296406Z",
     "iopub.status.busy": "2020-09-05T03:27:49.296406Z",
     "iopub.status.idle": "2020-09-05T03:27:49.773931Z",
     "shell.execute_reply": "2020-09-05T03:27:49.773435Z",
     "shell.execute_reply.started": "2020-09-05T03:27:49.296406Z"
    }
   },
   "outputs": [],
   "source": [
    "from xgboost import XGBClassifier"
   ]
  },
  {
   "cell_type": "code",
   "execution_count": 3,
   "metadata": {
    "execution": {
     "iopub.execute_input": "2020-09-05T03:27:50.375997Z",
     "iopub.status.busy": "2020-09-05T03:27:50.375501Z",
     "iopub.status.idle": "2020-09-05T03:27:50.379469Z",
     "shell.execute_reply": "2020-09-05T03:27:50.378972Z",
     "shell.execute_reply.started": "2020-09-05T03:27:50.375997Z"
    }
   },
   "outputs": [],
   "source": [
    "xgbc = XGBClassifier(tree_method='gpu_hist', gpu_id=0, verbosity = 2)"
   ]
  },
  {
   "cell_type": "code",
   "execution_count": 12,
   "metadata": {
    "execution": {
     "iopub.execute_input": "2020-09-05T03:30:30.279735Z",
     "iopub.status.busy": "2020-09-05T03:30:30.279735Z",
     "iopub.status.idle": "2020-09-05T03:31:41.109130Z",
     "shell.execute_reply": "2020-09-05T03:31:41.108626Z",
     "shell.execute_reply.started": "2020-09-05T03:30:30.279735Z"
    }
   },
   "outputs": [
    {
     "data": {
      "text/plain": [
       "XGBClassifier(base_score=0.5, booster='gbtree', colsample_bylevel=1,\n",
       "              colsample_bynode=1, colsample_bytree=1, gamma=0, gpu_id=0,\n",
       "              importance_type='gain', interaction_constraints='',\n",
       "              learning_rate=0.300000012, max_delta_step=0, max_depth=6,\n",
       "              min_child_weight=1, missing=nan,\n",
       "              monotone_constraints='(0,0,0,0,0,0,0,0,0,0,0,0,0,0,0,0,0,0,0,0,0,0,0,0,0,0,0,0,0,0,0,0)',\n",
       "              n_estimators=100, n_jobs=0, num_parallel_tree=1, random_state=0,\n",
       "              reg_alpha=0, reg_lambda=1, scale_pos_weight=1, subsample=1,\n",
       "              tree_method='gpu_hist', validate_parameters=1, verbosity=2)"
      ]
     },
     "execution_count": 12,
     "metadata": {},
     "output_type": "execute_result"
    }
   ],
   "source": [
    "xgbc.fit(X_train_embeddings, y_train[0])"
   ]
  },
  {
   "cell_type": "code",
   "execution_count": 16,
   "metadata": {
    "execution": {
     "iopub.execute_input": "2020-09-05T03:37:26.681815Z",
     "iopub.status.busy": "2020-09-05T03:37:26.681815Z",
     "iopub.status.idle": "2020-09-05T03:37:26.686775Z",
     "shell.execute_reply": "2020-09-05T03:37:26.686279Z",
     "shell.execute_reply.started": "2020-09-05T03:37:26.681815Z"
    }
   },
   "outputs": [],
   "source": [
    "fitted_xgbc = XGBClassifier(base_score=0.5, booster='gbtree', colsample_bylevel=1,colsample_bynode=1, colsample_bytree=1, gamma=0, gpu_id=0,\n",
    "              importance_type='gain', interaction_constraints='',\\\n",
    "              learning_rate=0.300000012, max_delta_step=0, max_depth=6,\\\n",
    "              min_child_weight=1,\\\n",
    "              monotone_constraints='(0,0,0,0,0,0,0,0,0,0,0,0,0,0,0,0,0,0,0,0,0,0,0,0,0,0,0,0,0,0,0,0)',\\\n",
    "              n_estimators=100, n_jobs=0, num_parallel_tree=1, random_state=0,\\\n",
    "              reg_alpha=0, reg_lambda=1, scale_pos_weight=1, subsample=1,\\\n",
    "              tree_method='gpu_hist', validate_parameters=1, verbosity=2)"
   ]
  },
  {
   "cell_type": "code",
   "execution_count": null,
   "metadata": {},
   "outputs": [],
   "source": [
    "from sklearn.model_selection import cross_val_score, KFold\n",
    "scores = cross_val_score(fitted_xgbc, X_train_embeddings, y_train[0], cv=3)\n"
   ]
  },
  {
   "cell_type": "code",
   "execution_count": null,
   "metadata": {},
   "outputs": [],
   "source": [
    "print(\"Mean cross-validation score: %.2f\" % scores)"
   ]
  },
  {
   "cell_type": "code",
   "execution_count": 13,
   "metadata": {
    "execution": {
     "iopub.execute_input": "2020-09-04T12:48:16.738041Z",
     "iopub.status.busy": "2020-09-04T12:48:16.737544Z",
     "iopub.status.idle": "2020-09-04T12:48:16.751928Z",
     "shell.execute_reply": "2020-09-04T12:48:16.751454Z",
     "shell.execute_reply.started": "2020-09-04T12:48:16.737544Z"
    }
   },
   "outputs": [
    {
     "data": {
      "text/plain": [
       "array([0.62579106, 0.62412139, 0.62480167])"
      ]
     },
     "execution_count": 13,
     "metadata": {},
     "output_type": "execute_result"
    }
   ],
   "source": [
    "scores"
   ]
  },
  {
   "cell_type": "code",
   "execution_count": 35,
   "metadata": {
    "execution": {
     "iopub.execute_input": "2020-09-05T03:53:27.933817Z",
     "iopub.status.busy": "2020-09-05T03:53:27.933294Z",
     "iopub.status.idle": "2020-09-05T03:53:27.949166Z",
     "shell.execute_reply": "2020-09-05T03:53:27.948173Z",
     "shell.execute_reply.started": "2020-09-05T03:53:27.933817Z"
    }
   },
   "outputs": [],
   "source": [
    "testPredictions = xgbc.predict_proba(test_public_embeddings)"
   ]
  },
  {
   "cell_type": "code",
   "execution_count": 36,
   "metadata": {
    "execution": {
     "iopub.execute_input": "2020-09-05T03:53:29.935406Z",
     "iopub.status.busy": "2020-09-05T03:53:29.935406Z",
     "iopub.status.idle": "2020-09-05T03:53:29.939870Z",
     "shell.execute_reply": "2020-09-05T03:53:29.939374Z",
     "shell.execute_reply.started": "2020-09-05T03:53:29.935406Z"
    }
   },
   "outputs": [
    {
     "data": {
      "text/plain": [
       "array([[0.59035087, 0.40964916],\n",
       "       [0.34390414, 0.65609586],\n",
       "       [0.47158813, 0.52841187],\n",
       "       ...,\n",
       "       [0.7383452 , 0.2616548 ],\n",
       "       [0.38864052, 0.6113595 ],\n",
       "       [0.50401324, 0.49598676]], dtype=float32)"
      ]
     },
     "execution_count": 36,
     "metadata": {},
     "output_type": "execute_result"
    }
   ],
   "source": [
    "testPredictions"
   ]
  },
  {
   "cell_type": "code",
   "execution_count": 37,
   "metadata": {
    "execution": {
     "iopub.execute_input": "2020-09-05T03:53:31.622795Z",
     "iopub.status.busy": "2020-09-05T03:53:31.622795Z",
     "iopub.status.idle": "2020-09-05T03:53:31.628730Z",
     "shell.execute_reply": "2020-09-05T03:53:31.628262Z",
     "shell.execute_reply.started": "2020-09-05T03:53:31.622795Z"
    }
   },
   "outputs": [
    {
     "data": {
      "text/plain": [
       "array([1066.6683,  933.3305], dtype=float32)"
      ]
     },
     "execution_count": 37,
     "metadata": {},
     "output_type": "execute_result"
    }
   ],
   "source": [
    "sum(testPredictions)"
   ]
  },
  {
   "cell_type": "code",
   "execution_count": null,
   "metadata": {},
   "outputs": [],
   "source": []
  }
 ],
 "metadata": {
  "kernelspec": {
   "display_name": "Python 3",
   "language": "python",
   "name": "python3"
  },
  "language_info": {
   "codemirror_mode": {
    "name": "ipython",
    "version": 3
   },
   "file_extension": ".py",
   "mimetype": "text/x-python",
   "name": "python",
   "nbconvert_exporter": "python",
   "pygments_lexer": "ipython3",
   "version": "3.8.5"
  }
 },
 "nbformat": 4,
 "nbformat_minor": 4
}
